{
 "cells": [
  {
   "cell_type": "markdown",
   "metadata": {},
   "source": [
    "## This code is for Training and Evaluation of Custom Multilingual KWS\n",
    "Audio File should be in the format of **1-sec wav files**.\n",
    "\n",
    "\n",
    "Datasets needs:\n",
    "1. Background noise from Google Speech Command v2\n",
    "2. Trained Multilingual Embedding Features (ref:https://github.com/harvard-edge/multilingual_kws) \n",
    "3. Target keyword for **training** from **microphone**\n",
    "4. Unknow_file as non-Target audio file for **training**\n",
    "5. Testing from **real-time audio**\n",
    "\n",
    "_training KWS code based on https://github.com/harvard-edge/multilingual_kws_"
   ]
  },
  {
   "cell_type": "code",
   "execution_count": 1,
   "metadata": {},
   "outputs": [
    {
     "name": "stdout",
     "output_type": "stream",
     "text": [
      "Enabling notebook extension jupyter-js-widgets/extension...\n",
      "      - Validating: \u001b[32mOK\u001b[0m\n"
     ]
    }
   ],
   "source": [
    "# Run  this\n",
    "#!pip install ipywidgets widgetsnbextension pandas-profiling\n",
    "!jupyter nbextension enable --py widgetsnbextension"
   ]
  },
  {
   "cell_type": "markdown",
   "metadata": {},
   "source": [
    "### 1) Ask User to Type Custom Keyword\n",
    "keyword name should be without any space"
   ]
  },
  {
   "cell_type": "code",
   "execution_count": 74,
   "metadata": {
    "tags": []
   },
   "outputs": [],
   "source": [
    "KEYWORD = \"heybonnie\""
   ]
  },
  {
   "cell_type": "markdown",
   "metadata": {},
   "source": [
    "### 2) Record audio from microphone"
   ]
  },
  {
   "cell_type": "code",
   "execution_count": 75,
   "metadata": {},
   "outputs": [
    {
     "name": "stdout",
     "output_type": "stream",
     "text": [
      "/Users/nasim/Documents/Active_2023/MLEng_bootcampt/Spotify/code/multilingual_kws_v3/./content/target_kw/recording/heybonnie\n",
      "/Users/nasim/Documents/Active_2023/MLEng_bootcampt/Spotify/code/multilingual_kws_v3/./content/target_kw/recording/heybonnie/heybonnie.wav\n"
     ]
    }
   ],
   "source": [
    "import os\n",
    "from func import audio_record, kws_train, input_data\n",
    "from pathlib import Path\n",
    "\n",
    "pwd_path = !pwd\n",
    "BASE_DIR = pwd_path[0]\n",
    "\n",
    "\n",
    "keyword_dir = os.path.join(BASE_DIR , './content/target_kw/recording/',KEYWORD )\n",
    "print(keyword_dir)\n",
    "if not os.path.exists(keyword_dir):\n",
    "    os.mkdir(keyword_dir)\n",
    "record_name = KEYWORD+'.wav'\n",
    "print(os.path.join(keyword_dir, record_name))"
   ]
  },
  {
   "cell_type": "markdown",
   "metadata": {},
   "source": [
    "call record function:"
   ]
  },
  {
   "cell_type": "raw",
   "metadata": {
    "tags": []
   },
   "source": [
    "# \n",
    "\n",
    "duration = 30 # 20 sec\n",
    "audio_record.record (duration, record_name, keyword_dir )"
   ]
  },
  {
   "cell_type": "markdown",
   "metadata": {},
   "source": [
    "### 3) Audio Segmentation\n",
    "via pyannote speaker segmentation"
   ]
  },
  {
   "cell_type": "code",
   "execution_count": 77,
   "metadata": {},
   "outputs": [
    {
     "name": "stdout",
     "output_type": "stream",
     "text": [
      "/Users/nasim/Documents/Active_2023/MLEng_bootcampt/Spotify/code/multilingual_kws_v3/./content/target_kw/recording/heybonnie\n"
     ]
    },
    {
     "name": "stderr",
     "output_type": "stream",
     "text": [
      "wav_path: No such file or directory\n"
     ]
    },
    {
     "name": "stdout",
     "output_type": "stream",
     "text": [
      "1.5746875 2.4859375000000004 0.08868749999999954\n",
      "3.4478125000000004 4.0046875 0.44306250000000047\n",
      "5.034062500000001 6.147812500000001 0.44306250000000047\n",
      "6.8734375 7.5315625 0.3418125\n",
      "8.560937500000001 9.1515625 0.4093125000000018\n",
      "10.518437500000001 11.1596875 0.3586875000000018\n",
      "12.3746875 13.2184375 0.1561875\n",
      "14.4840625 15.1759375 0.3080625\n",
      "16.9478125 17.6903125 0.2574375\n",
      "19.5634375 20.2721875 0.2911875\n",
      "21.892187500000002 22.6515625 0.24056250000000365\n",
      "23.9846875 24.524687500000002 0.45993749999999634\n",
      "26.4484375 27.0390625 0.4093125\n",
      "28.844687500000003 29.688437500000003 0.1561875\n",
      "Speaker Segmentation Completed.\n"
     ]
    }
   ],
   "source": [
    "from func import spk_segment\n",
    "print(keyword_dir)\n",
    "\n",
    "spk_segments_path = spk_segment.segment (KEYWORD,keyword_dir)"
   ]
  },
  {
   "cell_type": "code",
   "execution_count": null,
   "metadata": {},
   "outputs": [],
   "source": []
  },
  {
   "cell_type": "markdown",
   "metadata": {},
   "source": [
    "### 4) Training"
   ]
  },
  {
   "cell_type": "code",
   "execution_count": 78,
   "metadata": {
    "tags": []
   },
   "outputs": [
    {
     "data": {
      "text/plain": [
       "'/Users/nasim/Documents/Active_2023/MLEng_bootcampt/Spotify/code/multilingual_kws_v3/./content/target_kw/recording/heybonnie/extractions'"
      ]
     },
     "execution_count": 78,
     "metadata": {},
     "output_type": "execute_result"
    }
   ],
   "source": [
    "spk_segments_path"
   ]
  },
  {
   "cell_type": "code",
   "execution_count": 79,
   "metadata": {
    "tags": []
   },
   "outputs": [
    {
     "name": "stdout",
     "output_type": "stream",
     "text": [
      "14 training samples found:\n",
      "\n",
      "train_percent: 36.0\n",
      "size of validation and test sets: 9 9\n",
      "Training model\n"
     ]
    },
    {
     "name": "stderr",
     "output_type": "stream",
     "text": [
      "WARNING:absl:Importing a function (__inference_block6b_se_reduce_layer_call_and_return_conditional_losses_705782) with ops with unsaved custom gradients. Will likely fail if a gradient is requested.\n",
      "WARNING:absl:Importing a function (__inference_block5b_expand_activation_layer_call_and_return_conditional_losses_703951) with ops with unsaved custom gradients. Will likely fail if a gradient is requested.\n",
      "WARNING:absl:Importing a function (__inference_block2a_expand_activation_layer_call_and_return_conditional_losses_683009) with ops with unsaved custom gradients. Will likely fail if a gradient is requested.\n",
      "WARNING:absl:Importing a function (__inference_block3a_activation_layer_call_and_return_conditional_losses_683944) with ops with unsaved custom gradients. Will likely fail if a gradient is requested.\n",
      "WARNING:absl:Importing a function (__inference_stem_activation_layer_call_and_return_conditional_losses_699101) with ops with unsaved custom gradients. Will likely fail if a gradient is requested.\n",
      "WARNING:absl:Importing a function (__inference_block6d_activation_layer_call_and_return_conditional_losses_706872) with ops with unsaved custom gradients. Will likely fail if a gradient is requested.\n",
      "WARNING:absl:Importing a function (__inference_block3a_se_reduce_layer_call_and_return_conditional_losses_683991) with ops with unsaved custom gradients. Will likely fail if a gradient is requested.\n",
      "WARNING:absl:Importing a function (__inference_block6a_se_reduce_layer_call_and_return_conditional_losses_705264) with ops with unsaved custom gradients. Will likely fail if a gradient is requested.\n",
      "WARNING:absl:Importing a function (__inference_block6c_se_reduce_layer_call_and_return_conditional_losses_706347) with ops with unsaved custom gradients. Will likely fail if a gradient is requested.\n",
      "WARNING:absl:Importing a function (__inference_block6d_expand_activation_layer_call_and_return_conditional_losses_688546) with ops with unsaved custom gradients. Will likely fail if a gradient is requested.\n",
      "WARNING:absl:Importing a function (__inference_block6a_se_reduce_layer_call_and_return_conditional_losses_687402) with ops with unsaved custom gradients. Will likely fail if a gradient is requested.\n",
      "WARNING:absl:Importing a function (__inference_block6d_activation_layer_call_and_return_conditional_losses_688640) with ops with unsaved custom gradients. Will likely fail if a gradient is requested.\n",
      "WARNING:absl:Importing a function (__inference_block5a_se_reduce_layer_call_and_return_conditional_losses_703616) with ops with unsaved custom gradients. Will likely fail if a gradient is requested.\n",
      "WARNING:absl:Importing a function (__inference_block2b_expand_activation_layer_call_and_return_conditional_losses_683403) with ops with unsaved custom gradients. Will likely fail if a gradient is requested.\n",
      "WARNING:absl:Importing a function (__inference_block2a_activation_layer_call_and_return_conditional_losses_699762) with ops with unsaved custom gradients. Will likely fail if a gradient is requested.\n",
      "WARNING:absl:Importing a function (__inference_block4a_activation_layer_call_and_return_conditional_losses_684784) with ops with unsaved custom gradients. Will likely fail if a gradient is requested.\n",
      "WARNING:absl:Importing a function (__inference_block2b_se_reduce_layer_call_and_return_conditional_losses_683544) with ops with unsaved custom gradients. Will likely fail if a gradient is requested.\n",
      "WARNING:absl:Importing a function (__inference_block4a_se_reduce_layer_call_and_return_conditional_losses_701968) with ops with unsaved custom gradients. Will likely fail if a gradient is requested.\n",
      "WARNING:absl:Importing a function (__inference_block3b_se_reduce_layer_call_and_return_conditional_losses_684384) with ops with unsaved custom gradients. Will likely fail if a gradient is requested.\n",
      "WARNING:absl:Importing a function (__inference_block4c_activation_layer_call_and_return_conditional_losses_685623) with ops with unsaved custom gradients. Will likely fail if a gradient is requested.\n",
      "WARNING:absl:Importing a function (__inference_block3b_expand_activation_layer_call_and_return_conditional_losses_701220) with ops with unsaved custom gradients. Will likely fail if a gradient is requested.\n",
      "WARNING:absl:Importing a function (__inference_block5a_activation_layer_call_and_return_conditional_losses_686069) with ops with unsaved custom gradients. Will likely fail if a gradient is requested.\n",
      "WARNING:absl:Importing a function (__inference_block4a_expand_activation_layer_call_and_return_conditional_losses_684689) with ops with unsaved custom gradients. Will likely fail if a gradient is requested.\n",
      "WARNING:absl:Importing a function (__inference_block4b_se_reduce_layer_call_and_return_conditional_losses_685224) with ops with unsaved custom gradients. Will likely fail if a gradient is requested.\n",
      "WARNING:absl:Importing a function (__inference_block6c_expand_activation_layer_call_and_return_conditional_losses_688100) with ops with unsaved custom gradients. Will likely fail if a gradient is requested.\n",
      "WARNING:absl:Importing a function (__inference_block5c_expand_activation_layer_call_and_return_conditional_losses_704516) with ops with unsaved custom gradients. Will likely fail if a gradient is requested.\n",
      "WARNING:absl:Importing a function (__inference_block5c_se_reduce_layer_call_and_return_conditional_losses_704699) with ops with unsaved custom gradients. Will likely fail if a gradient is requested.\n",
      "WARNING:absl:Importing a function (__inference_block5c_expand_activation_layer_call_and_return_conditional_losses_686814) with ops with unsaved custom gradients. Will likely fail if a gradient is requested.\n",
      "WARNING:absl:Importing a function (__inference_block3a_activation_layer_call_and_return_conditional_losses_700845) with ops with unsaved custom gradients. Will likely fail if a gradient is requested.\n",
      "WARNING:absl:Importing a function (__inference_block3a_expand_activation_layer_call_and_return_conditional_losses_700702) with ops with unsaved custom gradients. Will likely fail if a gradient is requested.\n",
      "WARNING:absl:Importing a function (__inference_block3a_se_reduce_layer_call_and_return_conditional_losses_700885) with ops with unsaved custom gradients. Will likely fail if a gradient is requested.\n",
      "WARNING:absl:Importing a function (__inference_block4b_activation_layer_call_and_return_conditional_losses_702446) with ops with unsaved custom gradients. Will likely fail if a gradient is requested.\n",
      "WARNING:absl:Importing a function (__inference_block3b_expand_activation_layer_call_and_return_conditional_losses_684243) with ops with unsaved custom gradients. Will likely fail if a gradient is requested.\n",
      "WARNING:absl:Importing a function (__inference_block5a_se_reduce_layer_call_and_return_conditional_losses_686116) with ops with unsaved custom gradients. Will likely fail if a gradient is requested.\n",
      "WARNING:absl:Importing a function (__inference_block6c_se_reduce_layer_call_and_return_conditional_losses_688241) with ops with unsaved custom gradients. Will likely fail if a gradient is requested.\n",
      "WARNING:absl:Importing a function (__inference_block6d_expand_activation_layer_call_and_return_conditional_losses_706729) with ops with unsaved custom gradients. Will likely fail if a gradient is requested.\n",
      "WARNING:absl:Importing a function (__inference_block2a_se_reduce_layer_call_and_return_conditional_losses_683151) with ops with unsaved custom gradients. Will likely fail if a gradient is requested.\n",
      "WARNING:absl:Importing a function (__inference_block6a_activation_layer_call_and_return_conditional_losses_687355) with ops with unsaved custom gradients. Will likely fail if a gradient is requested.\n",
      "WARNING:absl:Importing a function (__inference_block4b_activation_layer_call_and_return_conditional_losses_685177) with ops with unsaved custom gradients. Will likely fail if a gradient is requested.\n",
      "WARNING:absl:Importing a function (__inference_block4b_se_reduce_layer_call_and_return_conditional_losses_702486) with ops with unsaved custom gradients. Will likely fail if a gradient is requested.\n",
      "WARNING:absl:Importing a function (__inference_block4a_expand_activation_layer_call_and_return_conditional_losses_701785) with ops with unsaved custom gradients. Will likely fail if a gradient is requested.\n",
      "WARNING:absl:Importing a function (__inference_block7a_expand_activation_layer_call_and_return_conditional_losses_688992) with ops with unsaved custom gradients. Will likely fail if a gradient is requested.\n",
      "WARNING:absl:Importing a function (__inference_block6a_expand_activation_layer_call_and_return_conditional_losses_687260) with ops with unsaved custom gradients. Will likely fail if a gradient is requested.\n",
      "WARNING:absl:Importing a function (__inference_block5b_activation_layer_call_and_return_conditional_losses_704094) with ops with unsaved custom gradients. Will likely fail if a gradient is requested.\n",
      "WARNING:absl:Importing a function (__inference_block3b_se_reduce_layer_call_and_return_conditional_losses_701403) with ops with unsaved custom gradients. Will likely fail if a gradient is requested.\n",
      "WARNING:absl:Importing a function (__inference_block5a_expand_activation_layer_call_and_return_conditional_losses_703433) with ops with unsaved custom gradients. Will likely fail if a gradient is requested.\n",
      "WARNING:absl:Importing a function (__inference_block4a_se_reduce_layer_call_and_return_conditional_losses_684831) with ops with unsaved custom gradients. Will likely fail if a gradient is requested.\n",
      "WARNING:absl:Importing a function (__inference_block4b_expand_activation_layer_call_and_return_conditional_losses_702303) with ops with unsaved custom gradients. Will likely fail if a gradient is requested.\n",
      "WARNING:absl:Importing a function (__inference_block3b_activation_layer_call_and_return_conditional_losses_701363) with ops with unsaved custom gradients. Will likely fail if a gradient is requested.\n",
      "WARNING:absl:Importing a function (__inference_block7a_se_reduce_layer_call_and_return_conditional_losses_707477) with ops with unsaved custom gradients. Will likely fail if a gradient is requested.\n",
      "WARNING:absl:Importing a function (__inference_block4c_expand_activation_layer_call_and_return_conditional_losses_685529) with ops with unsaved custom gradients. Will likely fail if a gradient is requested.\n",
      "WARNING:absl:Importing a function (__inference_block7a_activation_layer_call_and_return_conditional_losses_707437) with ops with unsaved custom gradients. Will likely fail if a gradient is requested.\n",
      "WARNING:absl:Importing a function (__inference_block2b_se_reduce_layer_call_and_return_conditional_losses_700320) with ops with unsaved custom gradients. Will likely fail if a gradient is requested.\n",
      "WARNING:absl:Importing a function (__inference_block1a_activation_layer_call_and_return_conditional_losses_682710) with ops with unsaved custom gradients. Will likely fail if a gradient is requested.\n",
      "WARNING:absl:Importing a function (__inference_block7a_activation_layer_call_and_return_conditional_losses_689086) with ops with unsaved custom gradients. Will likely fail if a gradient is requested.\n",
      "WARNING:absl:Importing a function (__inference_block2a_activation_layer_call_and_return_conditional_losses_683104) with ops with unsaved custom gradients. Will likely fail if a gradient is requested.\n",
      "WARNING:absl:Importing a function (__inference_block2a_se_reduce_layer_call_and_return_conditional_losses_699802) with ops with unsaved custom gradients. Will likely fail if a gradient is requested.\n",
      "WARNING:absl:Importing a function (__inference_block6c_expand_activation_layer_call_and_return_conditional_losses_706164) with ops with unsaved custom gradients. Will likely fail if a gradient is requested.\n",
      "WARNING:absl:Importing a function (__inference_model_layer_call_and_return_conditional_losses_696010) with ops with unsaved custom gradients. Will likely fail if a gradient is requested.\n",
      "WARNING:absl:Importing a function (__inference_block6d_se_reduce_layer_call_and_return_conditional_losses_706912) with ops with unsaved custom gradients. Will likely fail if a gradient is requested.\n",
      "WARNING:absl:Importing a function (__inference_block1a_se_reduce_layer_call_and_return_conditional_losses_699284) with ops with unsaved custom gradients. Will likely fail if a gradient is requested.\n",
      "WARNING:absl:Importing a function (__inference_block5b_activation_layer_call_and_return_conditional_losses_686462) with ops with unsaved custom gradients. Will likely fail if a gradient is requested.\n",
      "WARNING:absl:Importing a function (__inference_block6b_expand_activation_layer_call_and_return_conditional_losses_705599) with ops with unsaved custom gradients. Will likely fail if a gradient is requested.\n",
      "WARNING:absl:Importing a function (__inference_block6c_activation_layer_call_and_return_conditional_losses_706307) with ops with unsaved custom gradients. Will likely fail if a gradient is requested.\n",
      "WARNING:absl:Importing a function (__inference_block7a_expand_activation_layer_call_and_return_conditional_losses_707294) with ops with unsaved custom gradients. Will likely fail if a gradient is requested.\n",
      "WARNING:absl:Importing a function (__inference_block5b_expand_activation_layer_call_and_return_conditional_losses_686368) with ops with unsaved custom gradients. Will likely fail if a gradient is requested.\n",
      "WARNING:absl:Importing a function (__inference_block5c_activation_layer_call_and_return_conditional_losses_704659) with ops with unsaved custom gradients. Will likely fail if a gradient is requested.\n",
      "WARNING:absl:Importing a function (__inference_block4c_se_reduce_layer_call_and_return_conditional_losses_685670) with ops with unsaved custom gradients. Will likely fail if a gradient is requested.\n",
      "WARNING:absl:Importing a function (__inference_block3a_expand_activation_layer_call_and_return_conditional_losses_683849) with ops with unsaved custom gradients. Will likely fail if a gradient is requested.\n",
      "WARNING:absl:Importing a function (__inference_stem_activation_layer_call_and_return_conditional_losses_682616) with ops with unsaved custom gradients. Will likely fail if a gradient is requested.\n",
      "WARNING:absl:Importing a function (__inference_block5c_se_reduce_layer_call_and_return_conditional_losses_686955) with ops with unsaved custom gradients. Will likely fail if a gradient is requested.\n",
      "WARNING:absl:Importing a function (__inference_top_activation_layer_call_and_return_conditional_losses_707812) with ops with unsaved custom gradients. Will likely fail if a gradient is requested.\n",
      "WARNING:absl:Importing a function (__inference_block2b_activation_layer_call_and_return_conditional_losses_683497) with ops with unsaved custom gradients. Will likely fail if a gradient is requested.\n",
      "WARNING:absl:Importing a function (__inference_block6b_expand_activation_layer_call_and_return_conditional_losses_687654) with ops with unsaved custom gradients. Will likely fail if a gradient is requested.\n",
      "WARNING:absl:Importing a function (__inference_block1a_se_reduce_layer_call_and_return_conditional_losses_682757) with ops with unsaved custom gradients. Will likely fail if a gradient is requested.\n",
      "WARNING:absl:Importing a function (__inference_block2b_activation_layer_call_and_return_conditional_losses_700280) with ops with unsaved custom gradients. Will likely fail if a gradient is requested.\n",
      "WARNING:absl:Importing a function (__inference_block4c_activation_layer_call_and_return_conditional_losses_703011) with ops with unsaved custom gradients. Will likely fail if a gradient is requested.\n",
      "WARNING:absl:Importing a function (__inference_block6b_se_reduce_layer_call_and_return_conditional_losses_687795) with ops with unsaved custom gradients. Will likely fail if a gradient is requested.\n",
      "WARNING:absl:Importing a function (__inference_block1a_activation_layer_call_and_return_conditional_losses_699244) with ops with unsaved custom gradients. Will likely fail if a gradient is requested.\n",
      "WARNING:absl:Importing a function (__inference_block5a_expand_activation_layer_call_and_return_conditional_losses_685975) with ops with unsaved custom gradients. Will likely fail if a gradient is requested.\n",
      "WARNING:absl:Importing a function (__inference_block2a_expand_activation_layer_call_and_return_conditional_losses_699619) with ops with unsaved custom gradients. Will likely fail if a gradient is requested.\n",
      "WARNING:absl:Importing a function (__inference__wrapped_model_676822) with ops with unsaved custom gradients. Will likely fail if a gradient is requested.\n",
      "WARNING:absl:Importing a function (__inference_block5b_se_reduce_layer_call_and_return_conditional_losses_686509) with ops with unsaved custom gradients. Will likely fail if a gradient is requested.\n",
      "WARNING:absl:Importing a function (__inference_top_activation_layer_call_and_return_conditional_losses_689385) with ops with unsaved custom gradients. Will likely fail if a gradient is requested.\n",
      "WARNING:absl:Importing a function (__inference_block5c_activation_layer_call_and_return_conditional_losses_686908) with ops with unsaved custom gradients. Will likely fail if a gradient is requested.\n",
      "WARNING:absl:Importing a function (__inference_block4c_se_reduce_layer_call_and_return_conditional_losses_703051) with ops with unsaved custom gradients. Will likely fail if a gradient is requested.\n",
      "WARNING:absl:Importing a function (__inference_block2b_expand_activation_layer_call_and_return_conditional_losses_700137) with ops with unsaved custom gradients. Will likely fail if a gradient is requested.\n",
      "WARNING:absl:Importing a function (__inference_block3b_activation_layer_call_and_return_conditional_losses_684337) with ops with unsaved custom gradients. Will likely fail if a gradient is requested.\n",
      "WARNING:absl:Importing a function (__inference_block4b_expand_activation_layer_call_and_return_conditional_losses_685083) with ops with unsaved custom gradients. Will likely fail if a gradient is requested.\n",
      "WARNING:absl:Importing a function (__inference_block4a_activation_layer_call_and_return_conditional_losses_701928) with ops with unsaved custom gradients. Will likely fail if a gradient is requested.\n",
      "WARNING:absl:Importing a function (__inference_block4c_expand_activation_layer_call_and_return_conditional_losses_702868) with ops with unsaved custom gradients. Will likely fail if a gradient is requested.\n",
      "WARNING:absl:Importing a function (__inference_model_layer_call_and_return_conditional_losses_697663) with ops with unsaved custom gradients. Will likely fail if a gradient is requested.\n",
      "WARNING:absl:Importing a function (__inference_block5a_activation_layer_call_and_return_conditional_losses_703576) with ops with unsaved custom gradients. Will likely fail if a gradient is requested.\n",
      "WARNING:absl:Importing a function (__inference_block6b_activation_layer_call_and_return_conditional_losses_687748) with ops with unsaved custom gradients. Will likely fail if a gradient is requested.\n",
      "WARNING:absl:Importing a function (__inference_block5b_se_reduce_layer_call_and_return_conditional_losses_704134) with ops with unsaved custom gradients. Will likely fail if a gradient is requested.\n",
      "WARNING:absl:Importing a function (__inference_block6c_activation_layer_call_and_return_conditional_losses_688194) with ops with unsaved custom gradients. Will likely fail if a gradient is requested.\n",
      "WARNING:absl:Importing a function (__inference_block7a_se_reduce_layer_call_and_return_conditional_losses_689133) with ops with unsaved custom gradients. Will likely fail if a gradient is requested.\n",
      "WARNING:absl:Importing a function (__inference_block6d_se_reduce_layer_call_and_return_conditional_losses_688687) with ops with unsaved custom gradients. Will likely fail if a gradient is requested.\n",
      "WARNING:absl:Importing a function (__inference_block6a_expand_activation_layer_call_and_return_conditional_losses_705081) with ops with unsaved custom gradients. Will likely fail if a gradient is requested.\n",
      "WARNING:absl:Importing a function (__inference_block6b_activation_layer_call_and_return_conditional_losses_705742) with ops with unsaved custom gradients. Will likely fail if a gradient is requested.\n",
      "WARNING:absl:Importing a function (__inference_block6a_activation_layer_call_and_return_conditional_losses_705224) with ops with unsaved custom gradients. Will likely fail if a gradient is requested.\n"
     ]
    },
    {
     "name": "stdout",
     "output_type": "stream",
     "text": [
      "shape_train_init: 5\n",
      "shape_valid_init: 9\n",
      "Epoch 1/4\n",
      "64/64 [==============================] - 8s 91ms/step - loss: 0.5464 - accuracy: 0.7896 - val_loss: 0.2528 - val_accuracy: 1.0000\n",
      "Epoch 2/4\n",
      "64/64 [==============================] - 5s 80ms/step - loss: 0.2099 - accuracy: 0.9504 - val_loss: 0.2279 - val_accuracy: 0.8889\n",
      "Epoch 3/4\n",
      "64/64 [==============================] - 5s 81ms/step - loss: 0.1242 - accuracy: 0.9709 - val_loss: 0.2268 - val_accuracy: 0.8889\n",
      "Epoch 4/4\n",
      "64/64 [==============================] - 5s 84ms/step - loss: 0.0804 - accuracy: 0.9836 - val_loss: 0.2399 - val_accuracy: 0.7778\n"
     ]
    }
   ],
   "source": [
    "\n",
    "base_model_dir = Path(BASE_DIR).joinpath('./content/multilingual_context_73_0.8011')\n",
    "unknown_words_dir = Path(BASE_DIR).joinpath('./content/unknown_files/')\n",
    "background_noise_dir =  Path(BASE_DIR).joinpath('./content/speech_commands_v0.02/_background_noise_/')\n",
    "\n",
    "\n",
    "model, five_samples, dev_samples, test_samples = kws_train.train(keyword= KEYWORD,\n",
    "                 samples_dir= spk_segments_path,\n",
    "                 embedding= base_model_dir,\n",
    "                 unknown_words= unknown_words_dir,\n",
    "                 background_noise= background_noise_dir)"
   ]
  },
  {
   "cell_type": "code",
   "execution_count": 80,
   "metadata": {},
   "outputs": [],
   "source": [
    "# keyword_dir = os.path.join(pwd_path[0] + '/content/target_kw/recording/',KEYWORD )\n",
    "\n",
    "#import model\n",
    "#model, five_samples, dev_samples, test_samples= kws_train.train(KEYWORD, spk_segments_path)\n"
   ]
  },
  {
   "cell_type": "markdown",
   "metadata": {},
   "source": [
    "offline evaluation"
   ]
  },
  {
   "cell_type": "code",
   "execution_count": 81,
   "metadata": {
    "tags": []
   },
   "outputs": [
    {
     "name": "stdout",
     "output_type": "stream",
     "text": [
      "Number of non-target examples 9\n",
      "Test accuracy on testset: 0.78\n",
      "Estimated accuracy on non-target samples: 1.00\n",
      "FRR: 22.222 %\n",
      "FAR: 0.0 %\n"
     ]
    },
    {
     "data": {
      "text/plain": [
       "(0.2222222222222222, 0.0)"
      ]
     },
     "execution_count": 81,
     "metadata": {},
     "output_type": "execute_result"
    }
   ],
   "source": [
    "nontarget_dir = Path(BASE_DIR).joinpath('./content/nontarget_mswc_microset_wav/en/clips/')\n",
    "background_noise_dir =  Path(BASE_DIR).joinpath('./content/speech_commands_v0.02/_background_noise_/')\n",
    "\n",
    "\n",
    "target_pred, nontarget_pred= kws_train.predict(KEYWORD, model, test_samples,\n",
    "                                   nontarget_dir, background_noise_dir )\n",
    "frr_val,far_val, _, _= kws_train.report_results (target_pred, nontarget_pred)\n",
    "frr_val,far_val"
   ]
  },
  {
   "cell_type": "code",
   "execution_count": 82,
   "metadata": {
    "tags": []
   },
   "outputs": [
    {
     "data": {
      "text/plain": [
       "'/Users/nasim/Documents/Active_2023/MLEng_bootcampt/Spotify/code/multilingual_kws_v3/./content/target_kw/recording/heybonnie/extractions/009_heybonnie_detection_16.948sec.wav'"
      ]
     },
     "execution_count": 82,
     "metadata": {},
     "output_type": "execute_result"
    }
   ],
   "source": [
    "import glob\n",
    "import tensorflow as tf\n",
    "import numpy as np\n",
    "file_lst = glob.glob(os.path.join(spk_segments_path, \"*.wav\"))\n",
    "filepath = file_lst[0]\n",
    "filepath"
   ]
  },
  {
   "cell_type": "code",
   "execution_count": 83,
   "metadata": {
    "tags": []
   },
   "outputs": [
    {
     "name": "stdout",
     "output_type": "stream",
     "text": [
      "(49, 40)\n",
      "(1, 49, 40, 1)\n"
     ]
    },
    {
     "data": {
      "text/plain": [
       "(array([0.00607816, 0.02762094, 0.9663009 ], dtype=float32), 2)"
      ]
     },
     "execution_count": 83,
     "metadata": {},
     "output_type": "execute_result"
    }
   ],
   "source": [
    "\n",
    "audio_binary = tf.io.read_file(filepath)\n",
    "\n",
    "#===========================================\n",
    "model_settings = input_data.standard_microspeech_model_settings(label_count=1)\n",
    "\n",
    "audio, _ = tf.audio.decode_wav(\n",
    "audio_binary,\n",
    "desired_channels=1,\n",
    "desired_samples=model_settings[\"desired_samples\"]\n",
    ")\n",
    "\n",
    "audio = tf.squeeze(audio, axis=-1)\n",
    "\n",
    "#===========================================\n",
    "# Test the trained FS-KWS model on test sets\n",
    "test_spectrograms = input_data.to_micro_spectrogram(model_settings, audio)\n",
    "print(np.asarray(test_spectrograms).shape)\n",
    "test_spectrograms = test_spectrograms[np.newaxis, :, :, np.newaxis]\n",
    "print(np.asarray(test_spectrograms).shape)\n",
    "\n",
    "# fetch softmax predictions from the finetuned model:\n",
    "predictions = model.predict(test_spectrograms)\n",
    "categorical_predictions = np.argmax(predictions[0])\n",
    "\n",
    "predictions[0], categorical_predictions"
   ]
  },
  {
   "cell_type": "markdown",
   "metadata": {},
   "source": [
    "### Evaluation \n",
    "(from mic and process in 1 sec audio chunk)\n"
   ]
  },
  {
   "cell_type": "markdown",
   "metadata": {},
   "source": [
    "Configure the KWS model with\n",
    "* detection threshold\n",
    "* wav file location\n",
    "* Keyword to use as a label\n",
    "* Filename to save results to"
   ]
  },
  {
   "cell_type": "code",
   "execution_count": 84,
   "metadata": {},
   "outputs": [],
   "source": [
    "import sys\n",
    "import pickle\n"
   ]
  },
  {
   "cell_type": "code",
   "execution_count": 87,
   "metadata": {
    "tags": []
   },
   "outputs": [],
   "source": [
    "import pyaudio\n",
    "import numpy as np\n",
    "import struct\n",
    "import time\n",
    "\n",
    "\n",
    "def stream_proc_audio (duration: int, model):\n",
    "    p = pyaudio.PyAudio()\n",
    "\n",
    "    def _find_input_device():\n",
    "        device_index = None            \n",
    "        for i in range( p.get_device_count() ):     \n",
    "            devinfo = p.get_device_info_by_index(i)   \n",
    "            print( \"Device %d: %s\"%(i,devinfo[\"name\"]) )\n",
    "\n",
    "            for record_name in [\"mic\",\"input\"]:\n",
    "                if record_name in devinfo[\"name\"].lower():\n",
    "                    print( \"Found an input: device %d - %s\"%(i,devinfo[\"name\"]) )\n",
    "                    device_index = i\n",
    "                    return device_index\n",
    "\n",
    "        if device_index == None:\n",
    "            print( \"No preferred input found; using default input device.\" )\n",
    "\n",
    "        return device_index\n",
    "\n",
    "    device_index = _find_input_device()\n",
    "\n",
    "\n",
    "    CHANNELS = 1\n",
    "    RATE = 16000\n",
    "    INPUT_BLOCK_TIME = 0.0125\n",
    "    CHUNK = int(RATE*INPUT_BLOCK_TIME) # FRAMES_PER_BUFFER\n",
    "\n",
    "    def _eval_stream (KEYWORD, model,frames):\n",
    "        model_settings = input_data.standard_microspeech_model_settings(label_count=3)\n",
    "\n",
    "        #===========================================\n",
    "        # Test the trained FS-KWS model on test sets\n",
    "        test_spectrograms = input_data.to_micro_spectrogram(model_settings, frames)\n",
    "        #print(np.asarray(test_spectrograms).shape)\n",
    "        test_spectrograms = test_spectrograms[np.newaxis, :, :, np.newaxis]\n",
    "        #print(np.asarray(test_spectrograms).shape)\n",
    "\n",
    "        # fetch softmax predictions from the finetuned model:\n",
    "        pred = model.predict(test_spectrograms)\n",
    "        categorical_pred = np.argmax(pred, axis=1)\n",
    "        return pred,categorical_pred\n",
    "\n",
    "    stream = p.open(format=pyaudio.paFloat32,\n",
    "                    channels=CHANNELS,\n",
    "                    rate=RATE,\n",
    "                    output=True,\n",
    "                    input=True,\n",
    "                    input_device_index = device_index,\n",
    "                    frames_per_buffer=CHUNK)\n",
    "\n",
    "    print(\"Start Streaming...\")\n",
    "    frames = np.array([])\n",
    "    for i in range(int(duration*RATE/CHUNK)): #go for a LEN seconds\n",
    "        block = np.fromstring(stream.read(CHUNK),dtype=np.float32)\n",
    "        frames = np.append(frames, block)\n",
    "        \n",
    "        \n",
    "        if len(frames) == RATE: # 1-sec audio captures\n",
    "            t = time.time()\n",
    "            #pred, categorical_pred = kws_train.eval_stream(KEYWORD, model,frames)\n",
    "            pred, categorical_pred = _eval_stream (KEYWORD, model,frames)\n",
    "            \n",
    "            if categorical_pred == 1:\n",
    "                if pred[0][categorical_pred] >= 0.8:\n",
    "                    print( \"Other words\")\n",
    "            elif categorical_pred == 2:\n",
    "                if pred[0][categorical_pred] >= 0.8:\n",
    "                    print( \"KEYWORD\")\n",
    "            elif categorical_pred == 0:\n",
    "                if pred[0][categorical_pred] >= 0.55:\n",
    "                    print(\"Background Noise/Silence\")\n",
    "            frames = []\n",
    "            print(\"processing time for a chunk:\", time.time() - t)\n",
    "\n",
    "\n",
    "\n",
    "    stream.stop_stream()\n",
    "    stream.close()\n",
    "    p.terminate()\n",
    "    #write(os.path.join(record_save_path,record_name),  sample_rate, wav)\n",
    "    print(\"Sreaming Completed\")\n",
    "    return False"
   ]
  },
  {
   "cell_type": "code",
   "execution_count": 88,
   "metadata": {},
   "outputs": [
    {
     "name": "stdout",
     "output_type": "stream",
     "text": [
      "Device 0: MacBook Air Microphone\n",
      "Found an input: device 0 - MacBook Air Microphone\n",
      "Start Streaming...\n",
      "Background Noise/Silence\n",
      "processing time for a chunk: 0.056452035903930664\n",
      "Other words\n",
      "processing time for a chunk: 0.06367111206054688\n",
      "processing time for a chunk: 0.06404590606689453\n",
      "processing time for a chunk: 0.06337714195251465\n",
      "processing time for a chunk: 0.06424808502197266\n",
      "Background Noise/Silence\n",
      "processing time for a chunk: 0.059992074966430664\n",
      "Background Noise/Silence\n",
      "processing time for a chunk: 0.06065011024475098\n",
      "Other words\n",
      "processing time for a chunk: 0.05787372589111328\n",
      "processing time for a chunk: 0.058476924896240234\n",
      "Background Noise/Silence\n",
      "processing time for a chunk: 0.05749201774597168\n",
      "Other words\n",
      "processing time for a chunk: 0.06404995918273926\n",
      "processing time for a chunk: 0.05981302261352539\n",
      "processing time for a chunk: 0.06360292434692383\n",
      "KEYWORD\n",
      "processing time for a chunk: 0.05605816841125488\n",
      "Background Noise/Silence\n",
      "processing time for a chunk: 0.05853605270385742\n",
      "Background Noise/Silence\n",
      "processing time for a chunk: 0.0603642463684082\n",
      "KEYWORD\n",
      "processing time for a chunk: 0.062270164489746094\n",
      "Background Noise/Silence\n",
      "processing time for a chunk: 0.0612947940826416\n",
      "Background Noise/Silence\n",
      "processing time for a chunk: 0.056183815002441406\n",
      "KEYWORD\n",
      "processing time for a chunk: 0.051812171936035156\n",
      "Sreaming Completed\n"
     ]
    }
   ],
   "source": [
    "# processing time for 1-sec audio is on average 60 ms\n",
    "duration = 20\n",
    "stream_flag = stream_proc_audio(duration, model)"
   ]
  },
  {
   "cell_type": "code",
   "execution_count": null,
   "metadata": {},
   "outputs": [],
   "source": []
  }
 ],
 "metadata": {
  "colab": {
   "name": "multilingual_kws_intro_tutorial.ipynb",
   "provenance": []
  },
  "kernelspec": {
   "display_name": "Python 3 (ipykernel)",
   "language": "python",
   "name": "python3"
  },
  "language_info": {
   "codemirror_mode": {
    "name": "ipython",
    "version": 3
   },
   "file_extension": ".py",
   "mimetype": "text/x-python",
   "name": "python",
   "nbconvert_exporter": "python",
   "pygments_lexer": "ipython3",
   "version": "3.8.16"
  },
  "widgets": {
   "application/vnd.jupyter.widget-state+json": {
    "0c54b8b1a66f4530a56e1294f4770dbc": {
     "model_module": "@jupyter-widgets/base",
     "model_module_version": "1.2.0",
     "model_name": "LayoutModel",
     "state": {
      "_model_module": "@jupyter-widgets/base",
      "_model_module_version": "1.2.0",
      "_model_name": "LayoutModel",
      "_view_count": null,
      "_view_module": "@jupyter-widgets/base",
      "_view_module_version": "1.2.0",
      "_view_name": "LayoutView",
      "align_content": null,
      "align_items": null,
      "align_self": null,
      "border": null,
      "bottom": null,
      "display": null,
      "flex": null,
      "flex_flow": null,
      "grid_area": null,
      "grid_auto_columns": null,
      "grid_auto_flow": null,
      "grid_auto_rows": null,
      "grid_column": null,
      "grid_gap": null,
      "grid_row": null,
      "grid_template_areas": null,
      "grid_template_columns": null,
      "grid_template_rows": null,
      "height": null,
      "justify_content": null,
      "justify_items": null,
      "left": null,
      "margin": null,
      "max_height": null,
      "max_width": null,
      "min_height": null,
      "min_width": null,
      "object_fit": null,
      "object_position": null,
      "order": null,
      "overflow": null,
      "overflow_x": null,
      "overflow_y": null,
      "padding": null,
      "right": null,
      "top": null,
      "visibility": null,
      "width": null
     }
    },
    "156b1b0418ab425f8a3b0653dd4fd48f": {
     "model_module": "@jupyter-widgets/base",
     "model_module_version": "1.2.0",
     "model_name": "LayoutModel",
     "state": {
      "_model_module": "@jupyter-widgets/base",
      "_model_module_version": "1.2.0",
      "_model_name": "LayoutModel",
      "_view_count": null,
      "_view_module": "@jupyter-widgets/base",
      "_view_module_version": "1.2.0",
      "_view_name": "LayoutView",
      "align_content": null,
      "align_items": null,
      "align_self": null,
      "border": null,
      "bottom": null,
      "display": null,
      "flex": null,
      "flex_flow": null,
      "grid_area": null,
      "grid_auto_columns": null,
      "grid_auto_flow": null,
      "grid_auto_rows": null,
      "grid_column": null,
      "grid_gap": null,
      "grid_row": null,
      "grid_template_areas": null,
      "grid_template_columns": null,
      "grid_template_rows": null,
      "height": null,
      "justify_content": null,
      "justify_items": null,
      "left": null,
      "margin": null,
      "max_height": null,
      "max_width": null,
      "min_height": null,
      "min_width": null,
      "object_fit": null,
      "object_position": null,
      "order": null,
      "overflow": null,
      "overflow_x": null,
      "overflow_y": null,
      "padding": null,
      "right": null,
      "top": null,
      "visibility": null,
      "width": null
     }
    },
    "4861133384d445ceab1d1f1e02c527bd": {
     "model_module": "@jupyter-widgets/controls",
     "model_module_version": "1.5.0",
     "model_name": "FloatProgressModel",
     "state": {
      "_dom_classes": [],
      "_model_module": "@jupyter-widgets/controls",
      "_model_module_version": "1.5.0",
      "_model_name": "FloatProgressModel",
      "_view_count": null,
      "_view_module": "@jupyter-widgets/controls",
      "_view_module_version": "1.5.0",
      "_view_name": "ProgressView",
      "bar_style": "success",
      "description": "",
      "description_tooltip": null,
      "layout": "IPY_MODEL_156b1b0418ab425f8a3b0653dd4fd48f",
      "max": 1520,
      "min": 0,
      "orientation": "horizontal",
      "style": "IPY_MODEL_56a681ba6d95404f8dbb2b522cee4ced",
      "value": 1520
     }
    },
    "56a681ba6d95404f8dbb2b522cee4ced": {
     "model_module": "@jupyter-widgets/controls",
     "model_module_version": "1.5.0",
     "model_name": "ProgressStyleModel",
     "state": {
      "_model_module": "@jupyter-widgets/controls",
      "_model_module_version": "1.5.0",
      "_model_name": "ProgressStyleModel",
      "_view_count": null,
      "_view_module": "@jupyter-widgets/base",
      "_view_module_version": "1.2.0",
      "_view_name": "StyleView",
      "bar_color": null,
      "description_width": ""
     }
    },
    "80fd30074f6a4629975800ca81106aa1": {
     "model_module": "@jupyter-widgets/base",
     "model_module_version": "1.2.0",
     "model_name": "LayoutModel",
     "state": {
      "_model_module": "@jupyter-widgets/base",
      "_model_module_version": "1.2.0",
      "_model_name": "LayoutModel",
      "_view_count": null,
      "_view_module": "@jupyter-widgets/base",
      "_view_module_version": "1.2.0",
      "_view_name": "LayoutView",
      "align_content": null,
      "align_items": null,
      "align_self": null,
      "border": null,
      "bottom": null,
      "display": null,
      "flex": null,
      "flex_flow": null,
      "grid_area": null,
      "grid_auto_columns": null,
      "grid_auto_flow": null,
      "grid_auto_rows": null,
      "grid_column": null,
      "grid_gap": null,
      "grid_row": null,
      "grid_template_areas": null,
      "grid_template_columns": null,
      "grid_template_rows": null,
      "height": null,
      "justify_content": null,
      "justify_items": null,
      "left": null,
      "margin": null,
      "max_height": null,
      "max_width": null,
      "min_height": null,
      "min_width": null,
      "object_fit": null,
      "object_position": null,
      "order": null,
      "overflow": null,
      "overflow_x": null,
      "overflow_y": null,
      "padding": null,
      "right": null,
      "top": null,
      "visibility": null,
      "width": null
     }
    },
    "922be91910e148cfaf3120db7a2e0d1d": {
     "model_module": "@jupyter-widgets/controls",
     "model_module_version": "1.5.0",
     "model_name": "HTMLModel",
     "state": {
      "_dom_classes": [],
      "_model_module": "@jupyter-widgets/controls",
      "_model_module_version": "1.5.0",
      "_model_name": "HTMLModel",
      "_view_count": null,
      "_view_module": "@jupyter-widgets/controls",
      "_view_module_version": "1.5.0",
      "_view_name": "HTMLView",
      "description": "",
      "description_tooltip": null,
      "layout": "IPY_MODEL_d0e3816b33f34dca984ba232ad48c39c",
      "placeholder": "​",
      "style": "IPY_MODEL_c183a1023a1d4e18a7d42cbe009373e1",
      "value": " 1520/1520 [01:02&lt;00:00, 24.72it/s]"
     }
    },
    "ab43324b23374bb5adcf916163ed3d14": {
     "model_module": "@jupyter-widgets/controls",
     "model_module_version": "1.5.0",
     "model_name": "HTMLModel",
     "state": {
      "_dom_classes": [],
      "_model_module": "@jupyter-widgets/controls",
      "_model_module_version": "1.5.0",
      "_model_name": "HTMLModel",
      "_view_count": null,
      "_view_module": "@jupyter-widgets/controls",
      "_view_module_version": "1.5.0",
      "_view_name": "HTMLView",
      "description": "",
      "description_tooltip": null,
      "layout": "IPY_MODEL_0c54b8b1a66f4530a56e1294f4770dbc",
      "placeholder": "​",
      "style": "IPY_MODEL_c190b7f4bc8547aeaf8f31d06be5c344",
      "value": "100%"
     }
    },
    "c183a1023a1d4e18a7d42cbe009373e1": {
     "model_module": "@jupyter-widgets/controls",
     "model_module_version": "1.5.0",
     "model_name": "DescriptionStyleModel",
     "state": {
      "_model_module": "@jupyter-widgets/controls",
      "_model_module_version": "1.5.0",
      "_model_name": "DescriptionStyleModel",
      "_view_count": null,
      "_view_module": "@jupyter-widgets/base",
      "_view_module_version": "1.2.0",
      "_view_name": "StyleView",
      "description_width": ""
     }
    },
    "c190b7f4bc8547aeaf8f31d06be5c344": {
     "model_module": "@jupyter-widgets/controls",
     "model_module_version": "1.5.0",
     "model_name": "DescriptionStyleModel",
     "state": {
      "_model_module": "@jupyter-widgets/controls",
      "_model_module_version": "1.5.0",
      "_model_name": "DescriptionStyleModel",
      "_view_count": null,
      "_view_module": "@jupyter-widgets/base",
      "_view_module_version": "1.2.0",
      "_view_name": "StyleView",
      "description_width": ""
     }
    },
    "d0e3816b33f34dca984ba232ad48c39c": {
     "model_module": "@jupyter-widgets/base",
     "model_module_version": "1.2.0",
     "model_name": "LayoutModel",
     "state": {
      "_model_module": "@jupyter-widgets/base",
      "_model_module_version": "1.2.0",
      "_model_name": "LayoutModel",
      "_view_count": null,
      "_view_module": "@jupyter-widgets/base",
      "_view_module_version": "1.2.0",
      "_view_name": "LayoutView",
      "align_content": null,
      "align_items": null,
      "align_self": null,
      "border": null,
      "bottom": null,
      "display": null,
      "flex": null,
      "flex_flow": null,
      "grid_area": null,
      "grid_auto_columns": null,
      "grid_auto_flow": null,
      "grid_auto_rows": null,
      "grid_column": null,
      "grid_gap": null,
      "grid_row": null,
      "grid_template_areas": null,
      "grid_template_columns": null,
      "grid_template_rows": null,
      "height": null,
      "justify_content": null,
      "justify_items": null,
      "left": null,
      "margin": null,
      "max_height": null,
      "max_width": null,
      "min_height": null,
      "min_width": null,
      "object_fit": null,
      "object_position": null,
      "order": null,
      "overflow": null,
      "overflow_x": null,
      "overflow_y": null,
      "padding": null,
      "right": null,
      "top": null,
      "visibility": null,
      "width": null
     }
    },
    "ffd224551b32459ca5165996f20e4ddc": {
     "model_module": "@jupyter-widgets/controls",
     "model_module_version": "1.5.0",
     "model_name": "HBoxModel",
     "state": {
      "_dom_classes": [],
      "_model_module": "@jupyter-widgets/controls",
      "_model_module_version": "1.5.0",
      "_model_name": "HBoxModel",
      "_view_count": null,
      "_view_module": "@jupyter-widgets/controls",
      "_view_module_version": "1.5.0",
      "_view_name": "HBoxView",
      "box_style": "",
      "children": [
       "IPY_MODEL_ab43324b23374bb5adcf916163ed3d14",
       "IPY_MODEL_4861133384d445ceab1d1f1e02c527bd",
       "IPY_MODEL_922be91910e148cfaf3120db7a2e0d1d"
      ],
      "layout": "IPY_MODEL_80fd30074f6a4629975800ca81106aa1"
     }
    }
   }
  }
 },
 "nbformat": 4,
 "nbformat_minor": 4
}
