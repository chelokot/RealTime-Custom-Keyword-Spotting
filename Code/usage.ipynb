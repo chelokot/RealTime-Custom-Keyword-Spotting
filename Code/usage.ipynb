{
 "cells": [
  {
   "cell_type": "code",
   "execution_count": 1,
   "metadata": {},
   "outputs": [
    {
     "name": "stdout",
     "output_type": "stream",
     "text": [
      "/Users/christos/FourthBrain/code/mle11-spotify1/RealTime-Custom-Keyword-Spotting/Code\n"
     ]
    }
   ],
   "source": [
    "!pwd"
   ]
  },
  {
   "cell_type": "code",
   "execution_count": 2,
   "metadata": {},
   "outputs": [],
   "source": [
    "# code to find unused files in a project\n",
    "# import os\n",
    "\n",
    "# # Define the project directory\n",
    "# project_dir = \"/Users/christos/FourthBrain/code/mle11-spotify1/RealTime-Custom-Keyword-Spotting\"\n",
    "\n",
    "# # Find all Python files in the project directory\n",
    "# python_files = []\n",
    "# for dirpath, dirnames, filenames in os.walk(project_dir):\n",
    "#     for filename in filenames:\n",
    "#         if filename.endswith(\".py\"):\n",
    "#             python_files.append(os.path.join(dirpath, filename))\n",
    "\n",
    "# # Find all used files and scripts in the project\n",
    "# used_files = []\n",
    "# for python_file in python_files:\n",
    "#     with open(python_file, \"r\") as f:\n",
    "#         lines = f.readlines()\n",
    "#         for line in lines:\n",
    "#             # if line.startswith(\"import\") or line.startswith(\"from\"):\n",
    "#             #     split_line = line.split()\n",
    "#             #     print(line)\n",
    "#             if line.startswith(\"import\"):\n",
    "#                 split_line = line.split()\n",
    "#                 print(line)\n",
    "#                 if len(split_line) > 1:\n",
    "#                     used_file = split_line[1]\n",
    "#                     if used_file.endswith(\".py\"):\n",
    "#                         used_files.append(used_file)\n",
    "\n",
    "# Find all unused files and scripts in the project\n",
    "# unused_files = []\n",
    "# for python_file in python_files:\n",
    "#     if python_file not in used_files:\n",
    "#         unused_files.append(python_file)\n",
    "\n",
    "# print(\"Unused files and scripts:\")\n",
    "# for unused_file in unused_files:\n",
    "#     print(unused_file)\n"
   ]
  },
  {
   "cell_type": "code",
   "execution_count": 2,
   "metadata": {},
   "outputs": [
    {
     "name": "stderr",
     "output_type": "stream",
     "text": [
      "/Users/christos/opt/miniconda3/envs/kws2/lib/python3.8/site-packages/tqdm/auto.py:22: TqdmWarning: IProgress not found. Please update jupyter and ipywidgets. See https://ipywidgets.readthedocs.io/en/stable/user_install.html\n",
      "  from .autonotebook import tqdm as notebook_tqdm\n"
     ]
    }
   ],
   "source": [
    "# import lines starting with import\n",
    "import argparse\n",
    "import asyncio\n",
    "import base64\n",
    "import collections\n",
    "import datetime\n",
    "import glob\n",
    "import IPython\n",
    "import importlib\n",
    "import joblib\n",
    "import json\n",
    "import logging\n",
    "import matplotlib.pyplot as plt\n",
    "import multiprocessing\n",
    "import numpy as np\n",
    "import os\n",
    "import pandas as pd\n",
    "import pathlib\n",
    "import pickle\n",
    "import plotly.express as px\n",
    "import plotly.graph_objects as go\n",
    "import pyaudio\n",
    "import seaborn as sns\n",
    "import sox\n",
    "import streamlit as st\n",
    "import struct\n",
    "import subprocess\n",
    "import sys\n",
    "import tensorflow as tf\n",
    "import time\n",
    "import websockets\n",
    "\n",
    "# all the from imports\n",
    "from dataclasses import dataclass\n",
    "from dotenv import load_dotenv\n",
    "from fastapi import FastAPI, Query, HTTPException\n",
    "from pathlib import Path\n",
    "from pyannote.audio import Pipeline # important from recording\n",
    "from pydantic import BaseModel\n",
    "from scipy.io import wavfile\n",
    "from scipy.io.wavfile import write\n",
    "from sklearn.model_selection import train_test_split\n",
    "from tensorflow.lite.experimental.microfrontend.python.ops import audio_microfrontend_op\n",
    "from tensorflow.python.platform import gfile\n",
    "from tqdm.notebook import tqdm\n",
    "from typing import Dict, List, Optional\n",
    "\n",
    "# deep dive into func folder\n",
    "from func import audio_record, kws_train, transfer_learning, input_data, spk_segment, inference, batch_streaming_analysis as sa\n",
    "from func.single_target_recognize_commands import SingleTargetRecognizeCommands, RecognizeResult\n",
    "from func.accuracy_utils import StreamingAccuracyStats\n",
    "# test_streaming_accuracy.py file not needed\n",
    "\n",
    "# model and model_realtime python files being used\n",
    "from model_realtime import record, preproc, train, predict, report_result, infer\n",
    "from model import train,predict, report_result\n"
   ]
  },
  {
   "cell_type": "code",
   "execution_count": null,
   "metadata": {},
   "outputs": [],
   "source": [
    "# use cProfile to find out which functions are taking the most time and which are not being used\n",
    "import cProfile\n",
    "import pstats\n",
    "import subprocess\n",
    "\n",
    "def entire_app():\n",
    "    # use this string to run the entire app\n",
    "    # executable = \"streamlit run streamlit_app.py\"\n",
    "    # execute string\n",
    "    # subprocess.call(executable, shell=True)\n",
    "    KEYWORD='heyBebe'\n",
    "    keyword_dir = record(KEYWORD)\n",
    "    spk_segments_path = preproc(KEYWORD,keyword_dir)\n",
    "    print(\"Record completed! 🏁\")\n",
    "    test_samples= train(KEYWORD, spk_segments_path)\n",
    "    print(\"Training completed 🏁\")\n",
    "    target_pred, nontarget_pred = predict(KEYWORD, test_samples)\n",
    "    frr_val,far_val = report_result(target_pred, nontarget_pred)\n",
    "    print(\"FRR and FAA are:\", frr_val, far_val)\n",
    "    result = infer(KEYWORD,duration=10)\n",
    "    return result\n",
    "\n",
    "\n",
    "cProfile.run('entire_app()', 'restats')"
   ]
  },
  {
   "cell_type": "code",
   "execution_count": 14,
   "metadata": {},
   "outputs": [
    {
     "name": "stdout",
     "output_type": "stream",
     "text": [
      "Thu Mar 23 13:40:28 2023    restats\n",
      "\n",
      "         143 function calls in 200.957 seconds\n",
      "\n",
      "   Random listing order was used\n",
      "\n",
      "   ncalls  tottime  percall  cumtime  percall filename:lineno(function)\n",
      "        1    0.000    0.000    0.000    0.000 {method 'rfind' of 'bytes' objects}\n",
      "        1    0.000    0.000    0.000    0.000 {method 'rstrip' of 'bytes' objects}\n",
      "        1    0.000    0.000    0.000    0.000 {method 'add' of 'set' objects}\n",
      "        1    0.000    0.000    0.000    0.000 {method 'encode' of 'str' objects}\n",
      "        1    0.000    0.000    0.000    0.000 {method 'rfind' of 'str' objects}\n",
      "        1    0.000    0.000    0.000    0.000 {method 'rstrip' of 'str' objects}\n",
      "        1    0.000    0.000  200.957  200.957 {built-in method builtins.exec}\n",
      "        1    0.000    0.000    0.000    0.000 {built-in method builtins.getattr}\n",
      "        1    0.000    0.000    0.000    0.000 {built-in method builtins.hasattr}\n",
      "        5    0.000    0.000    0.000    0.000 {built-in method builtins.isinstance}\n",
      "        2    0.000    0.000    0.000    0.000 {built-in method builtins.len}\n",
      "       10    0.000    0.000    0.000    0.000 {built-in method builtins.min}\n",
      "        1    0.000    0.000    0.000    0.000 {built-in method builtins.sorted}\n",
      "        1    0.000    0.000    0.000    0.000 {built-in method sys.audit}\n",
      "        1    0.000    0.000    0.000    0.000 {built-in method sys.exc_info}\n",
      "        1    0.000    0.000    0.000    0.000 {built-in method posix.kill}\n",
      "       12  200.698   16.725  200.698   16.725 {built-in method posix.waitpid}\n",
      "        2    0.000    0.000    0.000    0.000 {built-in method posix.close}\n",
      "        1    0.004    0.004    0.004    0.004 {built-in method posix.read}\n",
      "        1    0.000    0.000    0.000    0.000 {built-in method posix.pipe}\n",
      "        3    0.000    0.000    0.000    0.000 {built-in method posix.fspath}\n",
      "       10    0.252    0.025    0.252    0.025 {built-in method time.sleep}\n",
      "       12    0.000    0.000    0.000    0.000 {built-in method time.monotonic}\n",
      "       11    0.000    0.000    0.000    0.000 {method 'acquire' of '_thread.lock' objects}\n",
      "       11    0.000    0.000    0.000    0.000 {method 'release' of '_thread.lock' objects}\n",
      "        1    0.000    0.000    0.000    0.000 {built-in method _thread.allocate_lock}\n",
      "        1    0.000    0.000    0.000    0.000 /Users/christos/opt/miniconda3/envs/kws2/lib/python3.8/os.py:800(fsencode)\n",
      "        2    0.000    0.000    0.000    0.000 /Users/christos/opt/miniconda3/envs/kws2/lib/python3.8/posixpath.py:41(_get_sep)\n",
      "        2    0.000    0.000    0.000    0.000 /Users/christos/opt/miniconda3/envs/kws2/lib/python3.8/posixpath.py:150(dirname)\n",
      "        1    0.000    0.000    0.000    0.000 /Users/christos/opt/miniconda3/envs/kws2/lib/python3.8/contextlib.py:385(__init__)\n",
      "        1    0.000    0.000    0.000    0.000 /Users/christos/opt/miniconda3/envs/kws2/lib/python3.8/contextlib.py:479(__enter__)\n",
      "        1    0.000    0.000    0.000    0.000 /Users/christos/opt/miniconda3/envs/kws2/lib/python3.8/contextlib.py:482(__exit__)\n",
      "        1    0.000    0.000    0.000    0.000 /Users/christos/opt/miniconda3/envs/kws2/lib/python3.8/subprocess.py:143(__init__)\n",
      "        1    0.000    0.000    0.000    0.000 /Users/christos/opt/miniconda3/envs/kws2/lib/python3.8/subprocess.py:241(_cleanup)\n",
      "        1    0.000    0.000  200.957  200.957 /Users/christos/opt/miniconda3/envs/kws2/lib/python3.8/subprocess.py:332(call)\n",
      "        1    0.000    0.000    0.006    0.006 /Users/christos/opt/miniconda3/envs/kws2/lib/python3.8/subprocess.py:736(__init__)\n",
      "        1    0.000    0.000    0.000    0.000 /Users/christos/opt/miniconda3/envs/kws2/lib/python3.8/subprocess.py:908(__enter__)\n",
      "        1    0.000    0.000    0.000    0.000 /Users/christos/opt/miniconda3/envs/kws2/lib/python3.8/subprocess.py:911(__exit__)\n",
      "       11    0.000    0.000    0.000    0.000 /Users/christos/opt/miniconda3/envs/kws2/lib/python3.8/subprocess.py:1058(_remaining_time)\n",
      "        1    0.000    0.000  200.951  200.951 /Users/christos/opt/miniconda3/envs/kws2/lib/python3.8/subprocess.py:1078(wait)\n",
      "        1    0.000    0.000    0.000    0.000 /Users/christos/opt/miniconda3/envs/kws2/lib/python3.8/subprocess.py:1101(_close_pipe_fds)\n",
      "        1    0.000    0.000    0.000    0.000 /Users/christos/opt/miniconda3/envs/kws2/lib/python3.8/subprocess.py:1459(_get_handles)\n",
      "        1    0.000    0.000    0.006    0.006 /Users/christos/opt/miniconda3/envs/kws2/lib/python3.8/subprocess.py:1552(_execute_child)\n",
      "       12    0.000    0.000  200.698   16.725 /Users/christos/opt/miniconda3/envs/kws2/lib/python3.8/subprocess.py:1761(_try_wait)\n",
      "        2    0.001    0.000  200.951  100.475 /Users/christos/opt/miniconda3/envs/kws2/lib/python3.8/subprocess.py:1774(_wait)\n",
      "        1    0.000    0.000    0.000    0.000 /Users/christos/opt/miniconda3/envs/kws2/lib/python3.8/subprocess.py:1929(send_signal)\n",
      "        1    0.000    0.000    0.000    0.000 /Users/christos/opt/miniconda3/envs/kws2/lib/python3.8/subprocess.py:1940(kill)\n",
      "        1    0.002    0.002    0.002    0.002 {built-in method _posixsubprocess.fork_exec}\n",
      "        1    0.000    0.000    0.000    0.000 {method 'disable' of '_lsprof.Profiler' objects}\n",
      "        1    0.000    0.000  200.957  200.957 /var/folders/_g/sqngtpt93qq33bm_41xmhz1r0000gn/T/ipykernel_2891/1128055079.py:8(entire_app)\n",
      "        1    0.000    0.000  200.957  200.957 <string>:1(<module>)\n",
      "\n",
      "\n"
     ]
    },
    {
     "data": {
      "text/plain": [
       "<pstats.Stats at 0x2c5259850>"
      ]
     },
     "execution_count": 14,
     "metadata": {},
     "output_type": "execute_result"
    }
   ],
   "source": [
    "# read restats file\n",
    "p = pstats.Stats('restats')\n",
    "# sort by time\n",
    "p.print_stats()"
   ]
  },
  {
   "cell_type": "code",
   "execution_count": 9,
   "metadata": {},
   "outputs": [
    {
     "name": "stdout",
     "output_type": "stream",
     "text": [
      "         4 function calls in 0.000 seconds\n",
      "\n",
      "   Ordered by: standard name\n",
      "\n",
      "   ncalls  tottime  percall  cumtime  percall filename:lineno(function)\n",
      "        1    0.000    0.000    0.000    0.000 1407773237.py:3(my_function)\n",
      "        1    0.000    0.000    0.000    0.000 <string>:1(<module>)\n",
      "        1    0.000    0.000    0.000    0.000 {built-in method builtins.exec}\n",
      "        1    0.000    0.000    0.000    0.000 {method 'disable' of '_lsprof.Profiler' objects}\n",
      "\n",
      "\n"
     ]
    }
   ],
   "source": [
    "import cProfile\n",
    "\n",
    "def my_function():\n",
    "    for i in range(10000):\n",
    "        pass\n",
    "\n",
    "cProfile.run('my_function()')"
   ]
  },
  {
   "cell_type": "code",
   "execution_count": null,
   "metadata": {},
   "outputs": [],
   "source": []
  }
 ],
 "metadata": {
  "kernelspec": {
   "display_name": "kws2",
   "language": "python",
   "name": "python3"
  },
  "language_info": {
   "codemirror_mode": {
    "name": "ipython",
    "version": 3
   },
   "file_extension": ".py",
   "mimetype": "text/x-python",
   "name": "python",
   "nbconvert_exporter": "python",
   "pygments_lexer": "ipython3",
   "version": "3.8.16"
  },
  "orig_nbformat": 4
 },
 "nbformat": 4,
 "nbformat_minor": 2
}
